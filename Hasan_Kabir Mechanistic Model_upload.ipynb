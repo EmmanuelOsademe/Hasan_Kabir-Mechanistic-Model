{
 "cells": [
  {
   "cell_type": "code",
   "execution_count": 1,
   "metadata": {},
   "outputs": [],
   "source": [
    "import numpy as np\n",
    "import math"
   ]
  },
  {
   "cell_type": "code",
   "execution_count": 2,
   "metadata": {},
   "outputs": [
    {
     "name": "stdout",
     "output_type": "stream",
     "text": [
      "Enter fluid model: BlackOil\n",
      "The fluid model is : BlackOil\n",
      "Use relevant models for black oil or compositional model to compute velocities\n"
     ]
    }
   ],
   "source": [
    "fluid_model = input('Enter fluid model: ')\n",
    "print('The fluid model is : {}' .format(fluid_model))\n",
    "print ('Use relevant models for black oil or compositional model to compute velocities')"
   ]
  },
  {
   "cell_type": "code",
   "execution_count": 3,
   "metadata": {},
   "outputs": [],
   "source": [
    "def Bo_vel (Qosc, Bo, Rso, Qgsc, Bg, d, Qwsc = 0, Bw = 1, Rsw = 0):\n",
    "    Area = (math.pi/576) * d**2\n",
    "    \n",
    "    qo = 6.4988*10**(-5) * Qosc * Bo\n",
    "    qg = 1.1574*10**(-5) * (Qgsc - Qosc*Rso -Qwsc*Rsw)*Bg\n",
    "    qw = 6.4988*10**(-5) * Qwsc * Bw\n",
    "    ql = qo + qw\n",
    "        \n",
    "    Vsl = (0.3048*ql)/Area\n",
    "    Vsg = 0.3048*qg/Area\n",
    "    Vm = Vsl + Vsg\n",
    "    \n",
    "    return Vsl, Vsg, Vm\n",
    "\n",
    "# Liquid flow rates are in STB/D, liquid formation volume factor are in bbl/STB, gas flow rate in SCF/D, gas formation volume \n",
    "# factor in cubic feet/SCF, gas solubility in the liquid phase is in bbl/SCF, d is in inches and area is in square feet \n",
    "# The estimated velocities are in m/s"
   ]
  },
  {
   "cell_type": "code",
   "execution_count": 4,
   "metadata": {},
   "outputs": [],
   "source": [
    "def Comp_vel (wt, den_l, den_g, xg, d):\n",
    "    Area = (math.pi/576) * d**2\n",
    "    \n",
    "    ql = 1.8542 * 10**(-4) * (wt * (1- xg))/den_l \n",
    "    qg = 1.8542 * 10**(-4) *(wt * xg)/den_g\n",
    "        \n",
    "    Vsl = (0.3048*ql)/Area\n",
    "    Vsg = 0.3048*qg/Area\n",
    "    Vm = Vsl + Vsg\n",
    "    \n",
    "    return Vsl, Vsg, Vm\n",
    "\n",
    "# den_l and den_g are the liquid and gas densities, and bother are in Kg/cubic meters.\n",
    "# wt is the pound mass of feed per day, xg is the mass fraction of the vapour phase and d is in inches"
   ]
  },
  {
   "cell_type": "code",
   "execution_count": 5,
   "metadata": {},
   "outputs": [
    {
     "data": {
      "text/plain": [
       "(1.2075702214649229, 1.1755438489050583, 2.383114070369981)"
      ]
     },
     "execution_count": 5,
     "metadata": {},
     "output_type": "execute_result"
    }
   ],
   "source": [
    "Bo_vel(10000, 1.197, 281, 10*10**6, 0.0091, 6 )"
   ]
  },
  {
   "cell_type": "code",
   "execution_count": 6,
   "metadata": {},
   "outputs": [
    {
     "name": "stdout",
     "output_type": "stream",
     "text": [
      "Enter the calculated liquid superficial velocity : 1.20757\n",
      "Enter the calculated gas superficial velocity : 1.17554\n",
      "Enter the calculated mixture : 2.383114\n"
     ]
    }
   ],
   "source": [
    "Vsl = float(input('Enter the calculated liquid superficial velocity : '))\n",
    "Vsg = float(input('Enter the calculated gas superficial velocity : '))\n",
    "Vm = float(input('Enter the calculated mixture : '))"
   ]
  },
  {
   "cell_type": "code",
   "execution_count": 7,
   "metadata": {},
   "outputs": [
    {
     "name": "stdout",
     "output_type": "stream",
     "text": [
      "Enter liquid density in kg/m**3 : 761.6\n",
      "Enter gas density in kg/m**3 : 94.1\n",
      "Enter liquid viscosity in Pa.S : 0.00097\n",
      "Enter surface tension in dyne/cm : 0.00841\n",
      "Enter tubing inclination : 1.5708\n",
      "Enter acceleration due to gravity in m/S**2 : 9.81\n",
      "Enter surface roughness in ft : 0.00072\n",
      "Enter tubing diameter in inches : 6\n"
     ]
    }
   ],
   "source": [
    "den_l = float(input('Enter liquid density in kg/m**3 : '))\n",
    "den_g = float(input('Enter gas density in kg/m**3 : '))\n",
    "mhew_l = float(input('Enter liquid viscosity in Pa.S : '))\n",
    "sur_t = float(input('Enter surface tension in dyne/cm : '))\n",
    "theta = float(input('Enter tubing inclination : '))\n",
    "g = float(input('Enter acceleration due to gravity in m/S**2 : '))\n",
    "e = float(input('Enter surface roughness in ft : '))\n",
    "d = float(input('Enter tubing diameter in inches : '))"
   ]
  },
  {
   "cell_type": "code",
   "execution_count": 8,
   "metadata": {},
   "outputs": [
    {
     "name": "stdout",
     "output_type": "stream",
     "text": [
      "Churn flow Exist\n",
      "The estimated Pressure gradient in Pa/m is: 5153.37794812138\n"
     ]
    }
   ],
   "source": [
    "# We will assume bubble flow as the reference pattern\n",
    "\n",
    "# Calculating parameters needed to idenfify transition from  bubble flow to any other pattern\n",
    "\n",
    "Vs = 1.53*((g * sur_t*(den_l-den_g)/den_l**2)**0.25) # slip velocity in m/s\n",
    "\n",
    "# Bubble flow coefficient\n",
    "if d < 4.7244 or Vsl> 0.02:\n",
    "    Co = 1.2\n",
    "elif d > 4.7244 or Vsl< 0.02:\n",
    "    Co = 2.0\n",
    "\n",
    "# Bubble flow condition\n",
    "if Vsg < (math.sin(theta)/(4-Co))*(Co*Vsl + Vs):\n",
    "    print('Bubble flow exists')\n",
    "    fg = Vsg/(Co*Vm + Vs)\n",
    "    N_rey = (den_l*Vm* (0.0254*d))/mhew_l\n",
    "    f = (1/(-2*np.log10(2*e/(3.7*d)-(5.02/N_rey)* np.log10((2*e/(3.7*d)) +(13/N_rey)))))**2\n",
    "    \n",
    "    pres_grad = den_s * g * math.sin(theta) + (f*Vm**2*den_s)/(2*(0.0254*d))\n",
    "    \n",
    "elif Vm**1.12>(4.68* (0.0254*d)**0.48 * (g*(den_l - den_g)/ sur_t)**0.5 * (sur_t/den_l)**0.6 * \\\n",
    "               (den_l/mhew_l)**0.08) and fg<0.52:\n",
    "    print('Dispersed bubble flow exists')\n",
    "    fg = Vsg/(Co*Vm + Vs)\n",
    "    den_s = fg*den_g + (1-fg)*den_l\n",
    "    N_rey = (den_l*Vm* (0.0254*d))/mhew_l\n",
    "    f = (1/(-2*np.log10(2*e/(3.7*12*d)-(5.02/N_rey)*  np.log10((2*e/(3.7*12*d)) +(13/N_rey)))))**2\n",
    "    \n",
    "    pres_grad = den_s * g * math.sin(theta) + (f*Vm**2*den_s)/(2*(0.0254*d))\n",
    "\n",
    "    \n",
    "elif Vsg>(math.sin(theta)/(4-Co))*(Co*Vsl + Vs):\n",
    "    if (den_l*Vsl**2)<50:\n",
    "        test = (0.00673*(den_l*Vsl**2)**1.17)\n",
    "    elif (den_l*Vsl**2)>50:\n",
    "        test = 17.1*(math.log10(den_l * Vsl**2)) - 23.2\n",
    "    \n",
    "    V_tb = 0.35*np.sqrt(g*(0.0254*d)*((den_l-den_g)/den_l))* np.sqrt(math.sin(theta))*(1-math.cos(theta))**1.2 # in m/s\n",
    "    \n",
    "    if (den_g * Vsg**2)<test:\n",
    "        print('Slug flow exists')\n",
    "        Co = 1.2\n",
    "        fg = Vsg/(Co*Vm + V_tb)\n",
    "        den_s = fg*den_g + (1-fg)*den_l\n",
    "        N_rey = (den_l*Vm* (0.0254*d))/mhew_l\n",
    "        f = (1/(-2*np.log10(2*e/(3.7*12*d)-(5.02/N_rey)* np.log10((2*e/(3.7*12*d)) +(13/N_rey)))))**2\n",
    "        \n",
    "        pres_grad = den_s * g * math.sin(theta) + (f*Vm**2*den_l*(1-fg))/(2*(0.0254*d))\n",
    "        \n",
    "    elif (den_g * Vsg**2)>test:\n",
    "        print('Churn flow Exist')\n",
    "        Co = 1.15\n",
    "        fg = Vsg/(Co*Vm + V_tb)\n",
    "        den_s = fg*den_g + (1-fg)*den_l\n",
    "        N_rey = (den_l*Vm* (0.0254*d))/mhew_l\n",
    "        f = (1/(-2*np.log10(2*e/(3.7*12*d)-(5.02/N_rey)* np.log10((2*e/(3.7*12*d)) +(13/N_rey)))))**2\n",
    "        \n",
    "        pres_grad = den_s * g * math.sin(theta) + (f*Vm**2*den_l*(1-fg))/(2*(0.0254*d))\n",
    "        \n",
    "elif Vsg > 3.1*(sur_t * g * (den_l-den_g)/den_g**2)**0.25:\n",
    "    print('Annular flow Exists')\n",
    "    V_crit = 10000*Vsg*mhew_g/sur_t * np.sqrt(den_g/den_l)\n",
    "    if V_crit < 4:\n",
    "        FE = 0.055* V_crit**2.86\n",
    "    else:\n",
    "        FE = 0.857*math.log10(V_crit) - 0.20\n",
    "        \n",
    "    if xg ==0:\n",
    "        H_l = (FE*Vsl)/(FE*Vsl + Vsg)\n",
    "    else:\n",
    "        X = ((1-xg)/xg)**0.9 * np.sqrt(den_g/den_l)*(mhew_l/mhew_g)**0.1\n",
    "        H_l = (1 + X**0.8)**(-0.378)\n",
    "    \n",
    "    Nreg= den_g * Vsg *(0.0254*d)/mhew_g\n",
    "    Fc = 0.046*(1+75*H_l)* Nreg**(-0.2)\n",
    "    den_c = (Vsg * den_g + Vsl * den_l * FE) / (Vsg + Vsl*FE)\n",
    "    \n",
    "    pres_grad = den_c * g * math.sin(theta) + (Fc * den_c)/(2*(0.0254*d)) * (Vsg/(1-H_l))**2\n",
    "    \n",
    "print('The estimated Pressure gradient in Pa/m is: {}' .format(pres_grad))"
   ]
  }
 ],
 "metadata": {
  "kernelspec": {
   "display_name": "Python 3",
   "language": "python",
   "name": "python3"
  },
  "language_info": {
   "codemirror_mode": {
    "name": "ipython",
    "version": 3
   },
   "file_extension": ".py",
   "mimetype": "text/x-python",
   "name": "python",
   "nbconvert_exporter": "python",
   "pygments_lexer": "ipython3",
   "version": "3.6.4"
  }
 },
 "nbformat": 4,
 "nbformat_minor": 2
}
